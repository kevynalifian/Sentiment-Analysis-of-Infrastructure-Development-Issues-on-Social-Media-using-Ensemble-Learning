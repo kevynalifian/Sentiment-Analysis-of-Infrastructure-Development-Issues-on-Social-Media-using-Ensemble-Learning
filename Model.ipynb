{
  "cells": [
    {
      "cell_type": "markdown",
      "metadata": {
        "id": "enMBgPJL3YKk"
      },
      "source": [
        "# **LOAD DATASET & LIBRARY**"
      ]
    },
    {
      "cell_type": "code",
      "execution_count": null,
      "metadata": {
        "colab": {
          "base_uri": "https://localhost:8080/"
        },
        "id": "oFVUzB2M3Pc6",
        "outputId": "11d00c64-f5bd-4b45-d958-7217a04bc0af"
      },
      "outputs": [
        {
          "output_type": "stream",
          "name": "stdout",
          "text": [
            "Requirement already satisfied: nltk in /usr/local/lib/python3.10/dist-packages (3.8.1)\n",
            "Requirement already satisfied: click in /usr/local/lib/python3.10/dist-packages (from nltk) (8.1.7)\n",
            "Requirement already satisfied: joblib in /usr/local/lib/python3.10/dist-packages (from nltk) (1.3.2)\n",
            "Requirement already satisfied: regex>=2021.8.3 in /usr/local/lib/python3.10/dist-packages (from nltk) (2023.6.3)\n",
            "Requirement already satisfied: tqdm in /usr/local/lib/python3.10/dist-packages (from nltk) (4.66.1)\n"
          ]
        }
      ],
      "source": [
        "pip install nltk\n"
      ]
    },
    {
      "cell_type": "code",
      "execution_count": null,
      "metadata": {
        "colab": {
          "base_uri": "https://localhost:8080/"
        },
        "id": "g6G8_9-tFEOo",
        "outputId": "bf53e68a-0f3b-4211-9a42-8f63732fcb90"
      },
      "outputs": [
        {
          "output_type": "stream",
          "name": "stdout",
          "text": [
            "Collecting torchmetrics\n",
            "  Downloading torchmetrics-1.2.1-py3-none-any.whl (806 kB)\n",
            "\u001b[?25l     \u001b[90m━━━━━━━━━━━━━━━━━━━━━━━━━━━━━━━━━━━━━━━━\u001b[0m \u001b[32m0.0/806.1 kB\u001b[0m \u001b[31m?\u001b[0m eta \u001b[36m-:--:--\u001b[0m\r\u001b[2K     \u001b[91m━━━━━━\u001b[0m\u001b[90m╺\u001b[0m\u001b[90m━━━━━━━━━━━━━━━━━━━━━━━━━━━━━━━━━\u001b[0m \u001b[32m122.9/806.1 kB\u001b[0m \u001b[31m3.5 MB/s\u001b[0m eta \u001b[36m0:00:01\u001b[0m\r\u001b[2K     \u001b[90m━━━━━━━━━━━━━━━━━━━━━━━━━━━━━━━━━━━━━━━━\u001b[0m \u001b[32m806.1/806.1 kB\u001b[0m \u001b[31m12.0 MB/s\u001b[0m eta \u001b[36m0:00:00\u001b[0m\n",
            "\u001b[?25hRequirement already satisfied: numpy>1.20.0 in /usr/local/lib/python3.10/dist-packages (from torchmetrics) (1.23.5)\n",
            "Requirement already satisfied: packaging>17.1 in /usr/local/lib/python3.10/dist-packages (from torchmetrics) (23.2)\n",
            "Requirement already satisfied: torch>=1.8.1 in /usr/local/lib/python3.10/dist-packages (from torchmetrics) (2.1.0+cu118)\n",
            "Collecting lightning-utilities>=0.8.0 (from torchmetrics)\n",
            "  Downloading lightning_utilities-0.10.0-py3-none-any.whl (24 kB)\n",
            "Requirement already satisfied: setuptools in /usr/local/lib/python3.10/dist-packages (from lightning-utilities>=0.8.0->torchmetrics) (67.7.2)\n",
            "Requirement already satisfied: typing-extensions in /usr/local/lib/python3.10/dist-packages (from lightning-utilities>=0.8.0->torchmetrics) (4.5.0)\n",
            "Requirement already satisfied: filelock in /usr/local/lib/python3.10/dist-packages (from torch>=1.8.1->torchmetrics) (3.13.1)\n",
            "Requirement already satisfied: sympy in /usr/local/lib/python3.10/dist-packages (from torch>=1.8.1->torchmetrics) (1.12)\n",
            "Requirement already satisfied: networkx in /usr/local/lib/python3.10/dist-packages (from torch>=1.8.1->torchmetrics) (3.2.1)\n",
            "Requirement already satisfied: jinja2 in /usr/local/lib/python3.10/dist-packages (from torch>=1.8.1->torchmetrics) (3.1.2)\n",
            "Requirement already satisfied: fsspec in /usr/local/lib/python3.10/dist-packages (from torch>=1.8.1->torchmetrics) (2023.6.0)\n",
            "Requirement already satisfied: triton==2.1.0 in /usr/local/lib/python3.10/dist-packages (from torch>=1.8.1->torchmetrics) (2.1.0)\n",
            "Requirement already satisfied: MarkupSafe>=2.0 in /usr/local/lib/python3.10/dist-packages (from jinja2->torch>=1.8.1->torchmetrics) (2.1.3)\n",
            "Requirement already satisfied: mpmath>=0.19 in /usr/local/lib/python3.10/dist-packages (from sympy->torch>=1.8.1->torchmetrics) (1.3.0)\n",
            "Installing collected packages: lightning-utilities, torchmetrics\n",
            "Successfully installed lightning-utilities-0.10.0 torchmetrics-1.2.1\n"
          ]
        }
      ],
      "source": [
        "pip install torchmetrics"
      ]
    },
    {
      "cell_type": "code",
      "execution_count": null,
      "metadata": {
        "colab": {
          "base_uri": "https://localhost:8080/"
        },
        "id": "Z7UnJ4nbFRZ-",
        "outputId": "6728a393-a36f-4391-f8c1-5f7bbc8bb7a6"
      },
      "outputs": [
        {
          "output_type": "stream",
          "name": "stdout",
          "text": [
            "\u001b[38;5;2m✔ Download and installation successful\u001b[0m\n",
            "You can now load the package via spacy.load('en_core_web_lg')\n"
          ]
        }
      ],
      "source": [
        "import spacy\n",
        "spacy.cli.download(\"en_core_web_lg\")"
      ]
    },
    {
      "cell_type": "code",
      "execution_count": null,
      "metadata": {
        "id": "jYD8yntyTOvV"
      },
      "outputs": [],
      "source": [
        "import warnings\n",
        "warnings.filterwarnings('ignore')\n",
        "\n",
        "import pandas as pd\n",
        "import numpy as np\n",
        "import matplotlib.pyplot as plt\n",
        "import seaborn as sns\n",
        "from tqdm.auto import tqdm\n",
        "\n",
        "\n",
        "from spacy import displacy\n",
        "import nltk\n",
        "from nltk.corpus import stopwords\n",
        "from nltk.stem import WordNetLemmatizer\n",
        "import re\n",
        "from collections import Counter\n",
        "from string import punctuation\n",
        "\n",
        "from sklearn.feature_extraction.text import TfidfVectorizer\n",
        "from sklearn.model_selection import train_test_split\n",
        "from sklearn.preprocessing import LabelEncoder\n",
        "from sklearn.metrics import precision_score, recall_score , f1_score, accuracy_score,confusion_matrix\n",
        "\n",
        "from sklearn.linear_model import LogisticRegression\n",
        "from sklearn.svm import SVC\n",
        "from sklearn.ensemble import RandomForestClassifier\n",
        "from sklearn.tree import DecisionTreeClassifier\n",
        "\n",
        "from gensim.models import Word2Vec\n",
        "import torch\n",
        "import torch.nn as nn\n",
        "import torch.nn.functional as F\n",
        "from torch.optim import Adam\n",
        "from torch.utils.data import DataLoader , TensorDataset\n",
        "from torchsummary import summary\n",
        "from torchmetrics import ConfusionMatrix\n",
        "from mlxtend.plotting import plot_confusion_matrix\n",
        "\n",
        "lemma = WordNetLemmatizer()\n",
        "lb = LabelEncoder()\n",
        "nlp=spacy.load(\"en_core_web_lg\")"
      ]
    },
    {
      "cell_type": "code",
      "execution_count": null,
      "metadata": {
        "colab": {
          "base_uri": "https://localhost:8080/",
          "height": 625
        },
        "id": "0GYdX-IYTSBc",
        "outputId": "09b7e194-d5b2-4633-dd53-3bb46cd1816d"
      },
      "outputs": [
        {
          "output_type": "execute_result",
          "data": {
            "text/plain": [
              "                       created_at               id_str  \\\n",
              "0  Mon Dec 04 12:01:29 +0000 2023  1731640000000000000   \n",
              "1  Fri Dec 01 08:00:00 +0000 2023  1730500000000000000   \n",
              "2  Fri Dec 01 06:14:11 +0000 2023  1730470000000000000   \n",
              "3  Fri Dec 01 05:42:40 +0000 2023  1730460000000000000   \n",
              "4  Tue Nov 28 03:50:18 +0000 2023  1729350000000000000   \n",
              "\n",
              "                                           full_text  quote_count  \\\n",
              "0  Menurut laporan BPS, Sumatra Utara menjadi pro...            0   \n",
              "1  Diguyur hujan deras, jalan di Lebak, Banten, l...            0   \n",
              "2  Bapak/ibu, terdpt jalan yang rusak di daerah G...            0   \n",
              "3  Catatan infrastruktur jalan di Indonesia, berd...            0   \n",
              "4  Jenazah pria bernama Arju (45) di Polewali Man...            0   \n",
              "\n",
              "   reply_count  retweet_count  favorite_count lang          user_id_str  \\\n",
              "0            0              0               0   in  1316330000000000000   \n",
              "1            0              0               0   in             61377303   \n",
              "2            1              1               0   in  1574830000000000000   \n",
              "3            1             30              30   in             53878998   \n",
              "4            0              0               1   in            375995332   \n",
              "\n",
              "   conversation_id_str      username  \\\n",
              "0  1731640000000000000    databoksid   \n",
              "1  1730500000000000000  Lintas_MNCTV   \n",
              "2  1730470000000000000  Eddy30749724   \n",
              "3  1730460000000000000  datanesia_id   \n",
              "4  1729350000000000000  SeputariNews   \n",
              "\n",
              "                                           tweet_url  \n",
              "0  https://twitter.com/databoksid/status/17316448...  \n",
              "1  https://twitter.com/Lintas_MNCTV/status/173049...  \n",
              "2  https://twitter.com/Eddy30749724/status/173047...  \n",
              "3  https://twitter.com/datanesia_id/status/173046...  \n",
              "4  https://twitter.com/SeputariNews/status/172934...  "
            ],
            "text/html": [
              "\n",
              "  <div id=\"df-57a4fd00-e2a4-4709-a913-2342028bfc5a\" class=\"colab-df-container\">\n",
              "    <div>\n",
              "<style scoped>\n",
              "    .dataframe tbody tr th:only-of-type {\n",
              "        vertical-align: middle;\n",
              "    }\n",
              "\n",
              "    .dataframe tbody tr th {\n",
              "        vertical-align: top;\n",
              "    }\n",
              "\n",
              "    .dataframe thead th {\n",
              "        text-align: right;\n",
              "    }\n",
              "</style>\n",
              "<table border=\"1\" class=\"dataframe\">\n",
              "  <thead>\n",
              "    <tr style=\"text-align: right;\">\n",
              "      <th></th>\n",
              "      <th>created_at</th>\n",
              "      <th>id_str</th>\n",
              "      <th>full_text</th>\n",
              "      <th>quote_count</th>\n",
              "      <th>reply_count</th>\n",
              "      <th>retweet_count</th>\n",
              "      <th>favorite_count</th>\n",
              "      <th>lang</th>\n",
              "      <th>user_id_str</th>\n",
              "      <th>conversation_id_str</th>\n",
              "      <th>username</th>\n",
              "      <th>tweet_url</th>\n",
              "    </tr>\n",
              "  </thead>\n",
              "  <tbody>\n",
              "    <tr>\n",
              "      <th>0</th>\n",
              "      <td>Mon Dec 04 12:01:29 +0000 2023</td>\n",
              "      <td>1731640000000000000</td>\n",
              "      <td>Menurut laporan BPS, Sumatra Utara menjadi pro...</td>\n",
              "      <td>0</td>\n",
              "      <td>0</td>\n",
              "      <td>0</td>\n",
              "      <td>0</td>\n",
              "      <td>in</td>\n",
              "      <td>1316330000000000000</td>\n",
              "      <td>1731640000000000000</td>\n",
              "      <td>databoksid</td>\n",
              "      <td>https://twitter.com/databoksid/status/17316448...</td>\n",
              "    </tr>\n",
              "    <tr>\n",
              "      <th>1</th>\n",
              "      <td>Fri Dec 01 08:00:00 +0000 2023</td>\n",
              "      <td>1730500000000000000</td>\n",
              "      <td>Diguyur hujan deras, jalan di Lebak, Banten, l...</td>\n",
              "      <td>0</td>\n",
              "      <td>0</td>\n",
              "      <td>0</td>\n",
              "      <td>0</td>\n",
              "      <td>in</td>\n",
              "      <td>61377303</td>\n",
              "      <td>1730500000000000000</td>\n",
              "      <td>Lintas_MNCTV</td>\n",
              "      <td>https://twitter.com/Lintas_MNCTV/status/173049...</td>\n",
              "    </tr>\n",
              "    <tr>\n",
              "      <th>2</th>\n",
              "      <td>Fri Dec 01 06:14:11 +0000 2023</td>\n",
              "      <td>1730470000000000000</td>\n",
              "      <td>Bapak/ibu, terdpt jalan yang rusak di daerah G...</td>\n",
              "      <td>0</td>\n",
              "      <td>1</td>\n",
              "      <td>1</td>\n",
              "      <td>0</td>\n",
              "      <td>in</td>\n",
              "      <td>1574830000000000000</td>\n",
              "      <td>1730470000000000000</td>\n",
              "      <td>Eddy30749724</td>\n",
              "      <td>https://twitter.com/Eddy30749724/status/173047...</td>\n",
              "    </tr>\n",
              "    <tr>\n",
              "      <th>3</th>\n",
              "      <td>Fri Dec 01 05:42:40 +0000 2023</td>\n",
              "      <td>1730460000000000000</td>\n",
              "      <td>Catatan infrastruktur jalan di Indonesia, berd...</td>\n",
              "      <td>0</td>\n",
              "      <td>1</td>\n",
              "      <td>30</td>\n",
              "      <td>30</td>\n",
              "      <td>in</td>\n",
              "      <td>53878998</td>\n",
              "      <td>1730460000000000000</td>\n",
              "      <td>datanesia_id</td>\n",
              "      <td>https://twitter.com/datanesia_id/status/173046...</td>\n",
              "    </tr>\n",
              "    <tr>\n",
              "      <th>4</th>\n",
              "      <td>Tue Nov 28 03:50:18 +0000 2023</td>\n",
              "      <td>1729350000000000000</td>\n",
              "      <td>Jenazah pria bernama Arju (45) di Polewali Man...</td>\n",
              "      <td>0</td>\n",
              "      <td>0</td>\n",
              "      <td>0</td>\n",
              "      <td>1</td>\n",
              "      <td>in</td>\n",
              "      <td>375995332</td>\n",
              "      <td>1729350000000000000</td>\n",
              "      <td>SeputariNews</td>\n",
              "      <td>https://twitter.com/SeputariNews/status/172934...</td>\n",
              "    </tr>\n",
              "  </tbody>\n",
              "</table>\n",
              "</div>\n",
              "    <div class=\"colab-df-buttons\">\n",
              "\n",
              "  <div class=\"colab-df-container\">\n",
              "    <button class=\"colab-df-convert\" onclick=\"convertToInteractive('df-57a4fd00-e2a4-4709-a913-2342028bfc5a')\"\n",
              "            title=\"Convert this dataframe to an interactive table.\"\n",
              "            style=\"display:none;\">\n",
              "\n",
              "  <svg xmlns=\"http://www.w3.org/2000/svg\" height=\"24px\" viewBox=\"0 -960 960 960\">\n",
              "    <path d=\"M120-120v-720h720v720H120Zm60-500h600v-160H180v160Zm220 220h160v-160H400v160Zm0 220h160v-160H400v160ZM180-400h160v-160H180v160Zm440 0h160v-160H620v160ZM180-180h160v-160H180v160Zm440 0h160v-160H620v160Z\"/>\n",
              "  </svg>\n",
              "    </button>\n",
              "\n",
              "  <style>\n",
              "    .colab-df-container {\n",
              "      display:flex;\n",
              "      gap: 12px;\n",
              "    }\n",
              "\n",
              "    .colab-df-convert {\n",
              "      background-color: #E8F0FE;\n",
              "      border: none;\n",
              "      border-radius: 50%;\n",
              "      cursor: pointer;\n",
              "      display: none;\n",
              "      fill: #1967D2;\n",
              "      height: 32px;\n",
              "      padding: 0 0 0 0;\n",
              "      width: 32px;\n",
              "    }\n",
              "\n",
              "    .colab-df-convert:hover {\n",
              "      background-color: #E2EBFA;\n",
              "      box-shadow: 0px 1px 2px rgba(60, 64, 67, 0.3), 0px 1px 3px 1px rgba(60, 64, 67, 0.15);\n",
              "      fill: #174EA6;\n",
              "    }\n",
              "\n",
              "    .colab-df-buttons div {\n",
              "      margin-bottom: 4px;\n",
              "    }\n",
              "\n",
              "    [theme=dark] .colab-df-convert {\n",
              "      background-color: #3B4455;\n",
              "      fill: #D2E3FC;\n",
              "    }\n",
              "\n",
              "    [theme=dark] .colab-df-convert:hover {\n",
              "      background-color: #434B5C;\n",
              "      box-shadow: 0px 1px 3px 1px rgba(0, 0, 0, 0.15);\n",
              "      filter: drop-shadow(0px 1px 2px rgba(0, 0, 0, 0.3));\n",
              "      fill: #FFFFFF;\n",
              "    }\n",
              "  </style>\n",
              "\n",
              "    <script>\n",
              "      const buttonEl =\n",
              "        document.querySelector('#df-57a4fd00-e2a4-4709-a913-2342028bfc5a button.colab-df-convert');\n",
              "      buttonEl.style.display =\n",
              "        google.colab.kernel.accessAllowed ? 'block' : 'none';\n",
              "\n",
              "      async function convertToInteractive(key) {\n",
              "        const element = document.querySelector('#df-57a4fd00-e2a4-4709-a913-2342028bfc5a');\n",
              "        const dataTable =\n",
              "          await google.colab.kernel.invokeFunction('convertToInteractive',\n",
              "                                                    [key], {});\n",
              "        if (!dataTable) return;\n",
              "\n",
              "        const docLinkHtml = 'Like what you see? Visit the ' +\n",
              "          '<a target=\"_blank\" href=https://colab.research.google.com/notebooks/data_table.ipynb>data table notebook</a>'\n",
              "          + ' to learn more about interactive tables.';\n",
              "        element.innerHTML = '';\n",
              "        dataTable['output_type'] = 'display_data';\n",
              "        await google.colab.output.renderOutput(dataTable, element);\n",
              "        const docLink = document.createElement('div');\n",
              "        docLink.innerHTML = docLinkHtml;\n",
              "        element.appendChild(docLink);\n",
              "      }\n",
              "    </script>\n",
              "  </div>\n",
              "\n",
              "\n",
              "<div id=\"df-dd094091-c2c5-4480-af87-342b41c6fa99\">\n",
              "  <button class=\"colab-df-quickchart\" onclick=\"quickchart('df-dd094091-c2c5-4480-af87-342b41c6fa99')\"\n",
              "            title=\"Suggest charts\"\n",
              "            style=\"display:none;\">\n",
              "\n",
              "<svg xmlns=\"http://www.w3.org/2000/svg\" height=\"24px\"viewBox=\"0 0 24 24\"\n",
              "     width=\"24px\">\n",
              "    <g>\n",
              "        <path d=\"M19 3H5c-1.1 0-2 .9-2 2v14c0 1.1.9 2 2 2h14c1.1 0 2-.9 2-2V5c0-1.1-.9-2-2-2zM9 17H7v-7h2v7zm4 0h-2V7h2v10zm4 0h-2v-4h2v4z\"/>\n",
              "    </g>\n",
              "</svg>\n",
              "  </button>\n",
              "\n",
              "<style>\n",
              "  .colab-df-quickchart {\n",
              "      --bg-color: #E8F0FE;\n",
              "      --fill-color: #1967D2;\n",
              "      --hover-bg-color: #E2EBFA;\n",
              "      --hover-fill-color: #174EA6;\n",
              "      --disabled-fill-color: #AAA;\n",
              "      --disabled-bg-color: #DDD;\n",
              "  }\n",
              "\n",
              "  [theme=dark] .colab-df-quickchart {\n",
              "      --bg-color: #3B4455;\n",
              "      --fill-color: #D2E3FC;\n",
              "      --hover-bg-color: #434B5C;\n",
              "      --hover-fill-color: #FFFFFF;\n",
              "      --disabled-bg-color: #3B4455;\n",
              "      --disabled-fill-color: #666;\n",
              "  }\n",
              "\n",
              "  .colab-df-quickchart {\n",
              "    background-color: var(--bg-color);\n",
              "    border: none;\n",
              "    border-radius: 50%;\n",
              "    cursor: pointer;\n",
              "    display: none;\n",
              "    fill: var(--fill-color);\n",
              "    height: 32px;\n",
              "    padding: 0;\n",
              "    width: 32px;\n",
              "  }\n",
              "\n",
              "  .colab-df-quickchart:hover {\n",
              "    background-color: var(--hover-bg-color);\n",
              "    box-shadow: 0 1px 2px rgba(60, 64, 67, 0.3), 0 1px 3px 1px rgba(60, 64, 67, 0.15);\n",
              "    fill: var(--button-hover-fill-color);\n",
              "  }\n",
              "\n",
              "  .colab-df-quickchart-complete:disabled,\n",
              "  .colab-df-quickchart-complete:disabled:hover {\n",
              "    background-color: var(--disabled-bg-color);\n",
              "    fill: var(--disabled-fill-color);\n",
              "    box-shadow: none;\n",
              "  }\n",
              "\n",
              "  .colab-df-spinner {\n",
              "    border: 2px solid var(--fill-color);\n",
              "    border-color: transparent;\n",
              "    border-bottom-color: var(--fill-color);\n",
              "    animation:\n",
              "      spin 1s steps(1) infinite;\n",
              "  }\n",
              "\n",
              "  @keyframes spin {\n",
              "    0% {\n",
              "      border-color: transparent;\n",
              "      border-bottom-color: var(--fill-color);\n",
              "      border-left-color: var(--fill-color);\n",
              "    }\n",
              "    20% {\n",
              "      border-color: transparent;\n",
              "      border-left-color: var(--fill-color);\n",
              "      border-top-color: var(--fill-color);\n",
              "    }\n",
              "    30% {\n",
              "      border-color: transparent;\n",
              "      border-left-color: var(--fill-color);\n",
              "      border-top-color: var(--fill-color);\n",
              "      border-right-color: var(--fill-color);\n",
              "    }\n",
              "    40% {\n",
              "      border-color: transparent;\n",
              "      border-right-color: var(--fill-color);\n",
              "      border-top-color: var(--fill-color);\n",
              "    }\n",
              "    60% {\n",
              "      border-color: transparent;\n",
              "      border-right-color: var(--fill-color);\n",
              "    }\n",
              "    80% {\n",
              "      border-color: transparent;\n",
              "      border-right-color: var(--fill-color);\n",
              "      border-bottom-color: var(--fill-color);\n",
              "    }\n",
              "    90% {\n",
              "      border-color: transparent;\n",
              "      border-bottom-color: var(--fill-color);\n",
              "    }\n",
              "  }\n",
              "</style>\n",
              "\n",
              "  <script>\n",
              "    async function quickchart(key) {\n",
              "      const quickchartButtonEl =\n",
              "        document.querySelector('#' + key + ' button');\n",
              "      quickchartButtonEl.disabled = true;  // To prevent multiple clicks.\n",
              "      quickchartButtonEl.classList.add('colab-df-spinner');\n",
              "      try {\n",
              "        const charts = await google.colab.kernel.invokeFunction(\n",
              "            'suggestCharts', [key], {});\n",
              "      } catch (error) {\n",
              "        console.error('Error during call to suggestCharts:', error);\n",
              "      }\n",
              "      quickchartButtonEl.classList.remove('colab-df-spinner');\n",
              "      quickchartButtonEl.classList.add('colab-df-quickchart-complete');\n",
              "    }\n",
              "    (() => {\n",
              "      let quickchartButtonEl =\n",
              "        document.querySelector('#df-dd094091-c2c5-4480-af87-342b41c6fa99 button');\n",
              "      quickchartButtonEl.style.display =\n",
              "        google.colab.kernel.accessAllowed ? 'block' : 'none';\n",
              "    })();\n",
              "  </script>\n",
              "</div>\n",
              "    </div>\n",
              "  </div>\n"
            ]
          },
          "metadata": {},
          "execution_count": 5
        }
      ],
      "source": [
        "dataset = pd.read_excel('/content/dataset.xls')\n",
        "dataset.head()"
      ]
    },
    {
      "cell_type": "code",
      "execution_count": null,
      "metadata": {
        "colab": {
          "base_uri": "https://localhost:8080/"
        },
        "id": "3oAMlijvGb_N",
        "outputId": "fb6fc20a-a4c6-4b8c-f859-51b7ed7e9af2"
      },
      "outputs": [
        {
          "output_type": "execute_result",
          "data": {
            "text/plain": [
              "created_at             0\n",
              "id_str                 0\n",
              "full_text              5\n",
              "quote_count            0\n",
              "reply_count            0\n",
              "retweet_count          0\n",
              "favorite_count         0\n",
              "lang                   0\n",
              "user_id_str            0\n",
              "conversation_id_str    0\n",
              "username               0\n",
              "tweet_url              0\n",
              "dtype: int64"
            ]
          },
          "metadata": {},
          "execution_count": 6
        }
      ],
      "source": [
        "dataset.isnull().sum()"
      ]
    },
    {
      "cell_type": "code",
      "execution_count": null,
      "metadata": {
        "id": "j8ZwclllHChP"
      },
      "outputs": [],
      "source": [
        "dataset_cleaned_rows = dataset.dropna()\n",
        "dataset_cleaned_columns = dataset.dropna(axis=1)"
      ]
    },
    {
      "cell_type": "markdown",
      "metadata": {
        "id": "6O0qO4oK3PyT"
      },
      "source": [
        "# **PRE PROCESSING** #"
      ]
    },
    {
      "cell_type": "code",
      "execution_count": null,
      "metadata": {
        "id": "vqnbC_h79Xeb"
      },
      "outputs": [],
      "source": [
        "def Most_Words_used(full_text , num_of_words) :\n",
        "    all_text = ''.join(dataset[full_text].values)\n",
        "\n",
        "    all_text = re.sub(r'http\\S+', '', all_text)\n",
        "    all_text = re.sub(r'@\\S+', '', all_text)\n",
        "    all_text = re.sub(r'#\\S+', '', all_text)\n",
        "    all_text = re.sub(r'\\d+', '',all_text)\n",
        "    all_text = re.sub(r'[^\\w\\s]', '',all_text)\n",
        "\n",
        "\n",
        "    words = all_text.split()\n",
        "\n",
        "    stop_words = set(stopwords.words('english'))\n",
        "    words = [word for word in words if not word in stop_words]\n",
        "\n",
        "    word_counts = Counter(words)\n",
        "\n",
        "    top_words = word_counts.most_common(num_of_words)\n",
        "\n",
        "    return top_words"
      ]
    },
    {
      "cell_type": "code",
      "execution_count": null,
      "metadata": {
        "id": "QY7PDs5UH4K1"
      },
      "outputs": [],
      "source": [
        "def DataPrep(full_text) :\n",
        "    full_text = re.sub('<.*?>', '', full_text)\n",
        "    full_text = re.sub(r'http\\S+', '', full_text)\n",
        "    full_text = re.sub(r'@\\S+', '', full_text)\n",
        "    full_text = re.sub(r'#\\S+', '', full_text)\n",
        "    full_text = re.sub(r'\\d+', '', full_text)\n",
        "    full_text = re.sub(r'[^\\w\\s]', '', full_text)\n",
        "    full_text = re.sub(r'@(\\w+)', '', full_text)\n",
        "\n",
        "    tokens = nltk.word_tokenize(full_text)\n",
        "\n",
        "    #remove puncs\n",
        "    punc = list(punctuation)\n",
        "    words = [w for w in tokens if w not in punc]\n",
        "\n",
        "    #remove stop words\n",
        "    stop_words = set(stopwords.words('english'))\n",
        "    words = [w.lower() for w in words if not w.lower() in stop_words]\n",
        "\n",
        "    # lemmatization\n",
        "    words = [lemma.lemmatize(w) for w in words]\n",
        "\n",
        "    text = ' '.join(words)\n",
        "\n",
        "    return text"
      ]
    },
    {
      "cell_type": "code",
      "execution_count": null,
      "metadata": {
        "colab": {
          "base_uri": "https://localhost:8080/"
        },
        "id": "o-9r130F38Z8",
        "outputId": "65c7bdf0-da30-46b9-c17e-f029c5821ab8"
      },
      "outputs": [
        {
          "output_type": "stream",
          "name": "stderr",
          "text": [
            "[nltk_data] Downloading package vader_lexicon to /root/nltk_data...\n",
            "[nltk_data] Downloading package punkt to /root/nltk_data...\n",
            "[nltk_data]   Unzipping tokenizers/punkt.zip.\n",
            "[nltk_data] Downloading package stopwords to /root/nltk_data...\n",
            "[nltk_data]   Unzipping corpora/stopwords.zip.\n",
            "[nltk_data] Downloading package wordnet to /root/nltk_data...\n"
          ]
        },
        {
          "output_type": "execute_result",
          "data": {
            "text/plain": [
              "True"
            ]
          },
          "metadata": {},
          "execution_count": 10
        }
      ],
      "source": [
        "nltk.download('vader_lexicon')\n",
        "nltk.download('punkt')\n",
        "nltk.download('stopwords')\n",
        "nltk.download('wordnet')"
      ]
    },
    {
      "cell_type": "code",
      "execution_count": null,
      "metadata": {
        "id": "37SUuo-UDiqG"
      },
      "outputs": [],
      "source": [
        "dataset['full_text'] = dataset['full_text'].astype(str).apply(DataPrep)\n"
      ]
    },
    {
      "cell_type": "code",
      "execution_count": null,
      "metadata": {
        "colab": {
          "base_uri": "https://localhost:8080/"
        },
        "id": "d5oWLePHDzLj",
        "outputId": "b94711d0-ec79-47cd-f2a9-fb31c6447a64"
      },
      "outputs": [
        {
          "output_type": "stream",
          "name": "stdout",
          "text": [
            "0       menurut laporan bps sumatra utara menjadi prov...\n",
            "1       diguyur hujan deras jalan di lebak banten long...\n",
            "2       bapakibu terdpt jalan yang rusak di daerah gra...\n",
            "3       catatan infrastruktur jalan di indonesia berda...\n",
            "4       jenazah pria bernama arju di polewali mandar t...\n",
            "                              ...                        \n",
            "6054    orang jawa solo ewuh pekewuh dan tidak mau the...\n",
            "6055    kak maaf oot mau nanya apakah memang di pedala...\n",
            "6056    ï sedangkan pada rambut dan kuku tidak ada lag...\n",
            "6057    berangkat dari meeting informal tersebut bayer...\n",
            "6058    testimoni hari ini yang punya masalah sinyal j...\n",
            "Name: full_text, Length: 6059, dtype: object\n"
          ]
        }
      ],
      "source": [
        "print(dataset['full_text'])"
      ]
    },
    {
      "cell_type": "code",
      "execution_count": null,
      "metadata": {
        "colab": {
          "base_uri": "https://localhost:8080/"
        },
        "id": "AD5kTz6MIyhT",
        "outputId": "47545440-aade-4060-90b9-fd72122d091a"
      },
      "outputs": [
        {
          "output_type": "stream",
          "name": "stdout",
          "text": [
            "There are around 540 duplicated tweets, we will remove them.\n"
          ]
        }
      ],
      "source": [
        "print(f'There are around {int(dataset[\"full_text\"].duplicated().sum())} duplicated tweets, we will remove them.')"
      ]
    },
    {
      "cell_type": "code",
      "execution_count": null,
      "metadata": {
        "id": "BjF-IML-I8sk"
      },
      "outputs": [],
      "source": [
        "dataset.drop_duplicates(\"full_text\", inplace=True)"
      ]
    },
    {
      "cell_type": "code",
      "execution_count": null,
      "metadata": {
        "colab": {
          "base_uri": "https://localhost:8080/"
        },
        "id": "W_UMQoEEJDTi",
        "outputId": "d6196e59-73e7-4f5d-bd58-67a1e12b6996"
      },
      "outputs": [
        {
          "output_type": "stream",
          "name": "stdout",
          "text": [
            "There are around 0 duplicated tweets, we will remove them.\n"
          ]
        }
      ],
      "source": [
        "print(f'There are around {int(dataset[\"full_text\"].duplicated().sum())} duplicated tweets, we will remove them.')"
      ]
    },
    {
      "cell_type": "markdown",
      "metadata": {
        "id": "AZSHga9LC7dj"
      },
      "source": [
        "# **VADER LABELLING** #"
      ]
    },
    {
      "cell_type": "code",
      "execution_count": null,
      "metadata": {
        "id": "OyNNSxgM5d5_"
      },
      "outputs": [],
      "source": [
        "from nltk.sentiment.vader import SentimentIntensityAnalyzer\n"
      ]
    },
    {
      "cell_type": "code",
      "execution_count": null,
      "metadata": {
        "colab": {
          "base_uri": "https://localhost:8080/"
        },
        "id": "eBgSxVPpfz2U",
        "outputId": "2f1b6458-7ef0-41a6-f56d-f8c2df25051e"
      },
      "outputs": [
        {
          "output_type": "stream",
          "name": "stdout",
          "text": [
            "                                              full_text           label\n",
            "0     menurut laporan bps sumatra utara menjadi prov...  tidak mendesak\n",
            "1     diguyur hujan deras jalan di lebak banten long...  tidak mendesak\n",
            "2     bapakibu terdpt jalan yang rusak di daerah gra...  tidak mendesak\n",
            "3     catatan infrastruktur jalan di indonesia berda...  tidak mendesak\n",
            "4     jenazah pria bernama arju di polewali mandar t...        mendesak\n",
            "...                                                 ...             ...\n",
            "6054  orang jawa solo ewuh pekewuh dan tidak mau the...  tidak mendesak\n",
            "6055  kak maaf oot mau nanya apakah memang di pedala...  tidak mendesak\n",
            "6056  ï sedangkan pada rambut dan kuku tidak ada lag...        mendesak\n",
            "6057  berangkat dari meeting informal tersebut bayer...  tidak mendesak\n",
            "6058  testimoni hari ini yang punya masalah sinyal j...        mendesak\n",
            "\n",
            "[5519 rows x 2 columns]\n"
          ]
        }
      ],
      "source": [
        "# Inisialisasi VADER\n",
        "sia = SentimentIntensityAnalyzer()\n",
        "\n",
        "# Fungsi untuk menentukan kategori urgent atau tidak urgent berdasarkan sentimen\n",
        "def categorize_sentiment(row, urgent_words=None):\n",
        "    sentiment_scores = sia.polarity_scores(row['full_text'])\n",
        "\n",
        "    # Jika terdapat kata-kata tertentu dalam kalimat, kategorikan sebagai 'urgent'\n",
        "    if urgent_words and any(word in row['full_text'] for word in urgent_words):\n",
        "        return 'mendesak'\n",
        "    # Jika nilai sentimen negatif lebih tinggi, kategorikan sebagai 'urgent'\n",
        "    elif sentiment_scores['neg'] > sentiment_scores['pos']:\n",
        "        return 'mendesak'\n",
        "    else:\n",
        "        return 'tidak mendesak'\n",
        "\n",
        "# Terapkan fungsi pada setiap baris data untuk menentukan kategori\n",
        "# Di sini, kita memberikan daftar kata-kata mendesak sebagai contoh, Anda dapat mengubahnya sesuai kebutuhan\n",
        "urgent_keywords = [\"mendesak\", \"darurat\", \"penting\", \"lagi\", \"mati\", \"jenazah\", \"mayat\"]\n",
        "dataset['label'] = dataset.apply(lambda row: categorize_sentiment(row, urgent_words=urgent_keywords), axis=1)\n",
        "\n",
        "# Tampilkan data yang telah ditambahkan kategori urgent atau tidak urgent\n",
        "print(dataset[['full_text', 'label']])"
      ]
    },
    {
      "cell_type": "code",
      "execution_count": null,
      "metadata": {
        "colab": {
          "base_uri": "https://localhost:8080/"
        },
        "id": "sWsffdDEgUHX",
        "outputId": "761fea68-bfe3-48a9-e586-b5e80195afd0"
      },
      "outputs": [
        {
          "output_type": "execute_result",
          "data": {
            "text/plain": [
              "tidak mendesak    3107\n",
              "mendesak          2412\n",
              "Name: label, dtype: int64"
            ]
          },
          "metadata": {},
          "execution_count": 18
        }
      ],
      "source": [
        "dataset['label'].value_counts()"
      ]
    },
    {
      "cell_type": "code",
      "source": [
        "!pip install xlwt\n",
        "\n",
        "# Simpan dataframe yang sudah dilabeli ke file Excel\n",
        "labeled_file_path = 'data_twitter_labeled.xls'  # Ubah ekstensi file sesuai kebutuhan, misalnya .xls atau .xlsx\n",
        "dataset.to_excel(labeled_file_path, index=False)\n",
        "\n",
        "# Berikan tautan untuk mengunduh file labeled Excel\n",
        "download_link = f'<a href=\"{labeled_file_path}\" download>Klik di sini</a> untuk mengunduh file labeled Excel.'"
      ],
      "metadata": {
        "colab": {
          "base_uri": "https://localhost:8080/"
        },
        "id": "2iI8lOxc94_1",
        "outputId": "ddca3a85-2b38-4a5b-e078-5acd233e209b"
      },
      "execution_count": null,
      "outputs": [
        {
          "output_type": "stream",
          "name": "stdout",
          "text": [
            "Collecting xlwt\n",
            "  Downloading xlwt-1.3.0-py2.py3-none-any.whl (99 kB)\n",
            "\u001b[2K     \u001b[90m━━━━━━━━━━━━━━━━━━━━━━━━━━━━━━━━━━━━━━━━\u001b[0m \u001b[32m100.0/100.0 kB\u001b[0m \u001b[31m780.3 kB/s\u001b[0m eta \u001b[36m0:00:00\u001b[0m\n",
            "\u001b[?25hInstalling collected packages: xlwt\n",
            "Successfully installed xlwt-1.3.0\n"
          ]
        }
      ]
    },
    {
      "cell_type": "code",
      "source": [
        "from google.colab import files\n",
        "\n",
        "files.download('data_twitter_labeled.xls')"
      ],
      "metadata": {
        "colab": {
          "base_uri": "https://localhost:8080/",
          "height": 17
        },
        "id": "n8cepU-b-gt_",
        "outputId": "445ece76-627b-4809-cf43-c0c7bbfacfe2"
      },
      "execution_count": null,
      "outputs": [
        {
          "output_type": "display_data",
          "data": {
            "text/plain": [
              "<IPython.core.display.Javascript object>"
            ],
            "application/javascript": [
              "\n",
              "    async function download(id, filename, size) {\n",
              "      if (!google.colab.kernel.accessAllowed) {\n",
              "        return;\n",
              "      }\n",
              "      const div = document.createElement('div');\n",
              "      const label = document.createElement('label');\n",
              "      label.textContent = `Downloading \"${filename}\": `;\n",
              "      div.appendChild(label);\n",
              "      const progress = document.createElement('progress');\n",
              "      progress.max = size;\n",
              "      div.appendChild(progress);\n",
              "      document.body.appendChild(div);\n",
              "\n",
              "      const buffers = [];\n",
              "      let downloaded = 0;\n",
              "\n",
              "      const channel = await google.colab.kernel.comms.open(id);\n",
              "      // Send a message to notify the kernel that we're ready.\n",
              "      channel.send({})\n",
              "\n",
              "      for await (const message of channel.messages) {\n",
              "        // Send a message to notify the kernel that we're ready.\n",
              "        channel.send({})\n",
              "        if (message.buffers) {\n",
              "          for (const buffer of message.buffers) {\n",
              "            buffers.push(buffer);\n",
              "            downloaded += buffer.byteLength;\n",
              "            progress.value = downloaded;\n",
              "          }\n",
              "        }\n",
              "      }\n",
              "      const blob = new Blob(buffers, {type: 'application/binary'});\n",
              "      const a = document.createElement('a');\n",
              "      a.href = window.URL.createObjectURL(blob);\n",
              "      a.download = filename;\n",
              "      div.appendChild(a);\n",
              "      a.click();\n",
              "      div.remove();\n",
              "    }\n",
              "  "
            ]
          },
          "metadata": {}
        },
        {
          "output_type": "display_data",
          "data": {
            "text/plain": [
              "<IPython.core.display.Javascript object>"
            ],
            "application/javascript": [
              "download(\"download_fc34fe8c-13fd-4f91-a87d-89da9dac8eab\", \"data_twitter_labeled.xls\", 2358272)"
            ]
          },
          "metadata": {}
        }
      ]
    },
    {
      "cell_type": "markdown",
      "metadata": {
        "id": "nvFqSEMTr1wx"
      },
      "source": [
        "# **LOAD DATASET LABELED**"
      ]
    },
    {
      "cell_type": "code",
      "execution_count": null,
      "metadata": {
        "colab": {
          "base_uri": "https://localhost:8080/"
        },
        "id": "MNsKZA_vrwGo",
        "outputId": "e011a4ca-2521-445b-c61a-069a42951528"
      },
      "outputs": [
        {
          "output_type": "stream",
          "name": "stdout",
          "text": [
            "Requirement already satisfied: rank_bm25 in /usr/local/lib/python3.10/dist-packages (0.2.2)\n",
            "Requirement already satisfied: numpy in /usr/local/lib/python3.10/dist-packages (from rank_bm25) (1.23.5)\n"
          ]
        }
      ],
      "source": [
        "pip install rank_bm25"
      ]
    },
    {
      "cell_type": "code",
      "execution_count": null,
      "metadata": {
        "id": "4ZTNfhN2sWKp"
      },
      "outputs": [],
      "source": [
        "import pandas as pd\n",
        "#preprocesing\n",
        "import nltk\n",
        "from nltk.corpus import stopwords\n",
        "from nltk.tokenize import word_tokenize\n",
        "from nltk.stem import PorterStemmer\n",
        "import re\n",
        "#split data\n",
        "from sklearn.model_selection import train_test_split\n",
        "from scipy.sparse import hstack\n",
        "from sklearn.feature_extraction.text import CountVectorizer\n",
        "# mb25\n",
        "from rank_bm25 import BM25Okapi\n",
        "from sklearn.decomposition import PCA\n",
        "import matplotlib.pyplot as plt\n",
        "import numpy as np\n",
        "\n"
      ]
    },
    {
      "cell_type": "code",
      "execution_count": null,
      "metadata": {
        "colab": {
          "base_uri": "https://localhost:8080/",
          "height": 625
        },
        "id": "1pS1RCJqsXTa",
        "outputId": "df4297a5-8c95-493e-aa10-1871adb055a7"
      },
      "outputs": [
        {
          "output_type": "execute_result",
          "data": {
            "text/plain": [
              "                       created_at               id_str  \\\n",
              "0  Mon Dec 04 12:01:29 +0000 2023  1731640000000000000   \n",
              "1  Fri Dec 01 08:00:00 +0000 2023  1730500000000000000   \n",
              "2  Fri Dec 01 06:14:11 +0000 2023  1730470000000000000   \n",
              "3  Fri Dec 01 05:42:40 +0000 2023  1730460000000000000   \n",
              "4  Tue Nov 28 03:50:18 +0000 2023  1729350000000000000   \n",
              "\n",
              "                                           full_text  quote_count  \\\n",
              "0  menurut laporan bps sumatra utara menjadi prov...            0   \n",
              "1  diguyur hujan deras jalan di lebak banten long...            0   \n",
              "2  bapakibu terdpt jalan yang rusak di daerah gra...            0   \n",
              "3  catatan infrastruktur jalan di indonesia berda...            0   \n",
              "4  jenazah pria bernama arju di polewali mandar t...            0   \n",
              "\n",
              "   reply_count  retweet_count  favorite_count lang          user_id_str  \\\n",
              "0            0              0               0   in  1316330000000000000   \n",
              "1            0              0               0   in             61377303   \n",
              "2            1              1               0   in  1574830000000000000   \n",
              "3            1             30              30   in             53878998   \n",
              "4            0              0               1   in            375995332   \n",
              "\n",
              "   conversation_id_str      username  \\\n",
              "0  1731640000000000000    databoksid   \n",
              "1  1730500000000000000  Lintas_MNCTV   \n",
              "2  1730470000000000000  Eddy30749724   \n",
              "3  1730460000000000000  datanesia_id   \n",
              "4  1729350000000000000  SeputariNews   \n",
              "\n",
              "                                           tweet_url           label  \n",
              "0  https://twitter.com/databoksid/status/17316448...  tidak mendesak  \n",
              "1  https://twitter.com/Lintas_MNCTV/status/173049...  tidak mendesak  \n",
              "2  https://twitter.com/Eddy30749724/status/173047...  tidak mendesak  \n",
              "3  https://twitter.com/datanesia_id/status/173046...  tidak mendesak  \n",
              "4  https://twitter.com/SeputariNews/status/172934...        mendesak  "
            ],
            "text/html": [
              "\n",
              "  <div id=\"df-6390bc17-9bf0-45c7-931a-9d7d63e418d5\" class=\"colab-df-container\">\n",
              "    <div>\n",
              "<style scoped>\n",
              "    .dataframe tbody tr th:only-of-type {\n",
              "        vertical-align: middle;\n",
              "    }\n",
              "\n",
              "    .dataframe tbody tr th {\n",
              "        vertical-align: top;\n",
              "    }\n",
              "\n",
              "    .dataframe thead th {\n",
              "        text-align: right;\n",
              "    }\n",
              "</style>\n",
              "<table border=\"1\" class=\"dataframe\">\n",
              "  <thead>\n",
              "    <tr style=\"text-align: right;\">\n",
              "      <th></th>\n",
              "      <th>created_at</th>\n",
              "      <th>id_str</th>\n",
              "      <th>full_text</th>\n",
              "      <th>quote_count</th>\n",
              "      <th>reply_count</th>\n",
              "      <th>retweet_count</th>\n",
              "      <th>favorite_count</th>\n",
              "      <th>lang</th>\n",
              "      <th>user_id_str</th>\n",
              "      <th>conversation_id_str</th>\n",
              "      <th>username</th>\n",
              "      <th>tweet_url</th>\n",
              "      <th>label</th>\n",
              "    </tr>\n",
              "  </thead>\n",
              "  <tbody>\n",
              "    <tr>\n",
              "      <th>0</th>\n",
              "      <td>Mon Dec 04 12:01:29 +0000 2023</td>\n",
              "      <td>1731640000000000000</td>\n",
              "      <td>menurut laporan bps sumatra utara menjadi prov...</td>\n",
              "      <td>0</td>\n",
              "      <td>0</td>\n",
              "      <td>0</td>\n",
              "      <td>0</td>\n",
              "      <td>in</td>\n",
              "      <td>1316330000000000000</td>\n",
              "      <td>1731640000000000000</td>\n",
              "      <td>databoksid</td>\n",
              "      <td>https://twitter.com/databoksid/status/17316448...</td>\n",
              "      <td>tidak mendesak</td>\n",
              "    </tr>\n",
              "    <tr>\n",
              "      <th>1</th>\n",
              "      <td>Fri Dec 01 08:00:00 +0000 2023</td>\n",
              "      <td>1730500000000000000</td>\n",
              "      <td>diguyur hujan deras jalan di lebak banten long...</td>\n",
              "      <td>0</td>\n",
              "      <td>0</td>\n",
              "      <td>0</td>\n",
              "      <td>0</td>\n",
              "      <td>in</td>\n",
              "      <td>61377303</td>\n",
              "      <td>1730500000000000000</td>\n",
              "      <td>Lintas_MNCTV</td>\n",
              "      <td>https://twitter.com/Lintas_MNCTV/status/173049...</td>\n",
              "      <td>tidak mendesak</td>\n",
              "    </tr>\n",
              "    <tr>\n",
              "      <th>2</th>\n",
              "      <td>Fri Dec 01 06:14:11 +0000 2023</td>\n",
              "      <td>1730470000000000000</td>\n",
              "      <td>bapakibu terdpt jalan yang rusak di daerah gra...</td>\n",
              "      <td>0</td>\n",
              "      <td>1</td>\n",
              "      <td>1</td>\n",
              "      <td>0</td>\n",
              "      <td>in</td>\n",
              "      <td>1574830000000000000</td>\n",
              "      <td>1730470000000000000</td>\n",
              "      <td>Eddy30749724</td>\n",
              "      <td>https://twitter.com/Eddy30749724/status/173047...</td>\n",
              "      <td>tidak mendesak</td>\n",
              "    </tr>\n",
              "    <tr>\n",
              "      <th>3</th>\n",
              "      <td>Fri Dec 01 05:42:40 +0000 2023</td>\n",
              "      <td>1730460000000000000</td>\n",
              "      <td>catatan infrastruktur jalan di indonesia berda...</td>\n",
              "      <td>0</td>\n",
              "      <td>1</td>\n",
              "      <td>30</td>\n",
              "      <td>30</td>\n",
              "      <td>in</td>\n",
              "      <td>53878998</td>\n",
              "      <td>1730460000000000000</td>\n",
              "      <td>datanesia_id</td>\n",
              "      <td>https://twitter.com/datanesia_id/status/173046...</td>\n",
              "      <td>tidak mendesak</td>\n",
              "    </tr>\n",
              "    <tr>\n",
              "      <th>4</th>\n",
              "      <td>Tue Nov 28 03:50:18 +0000 2023</td>\n",
              "      <td>1729350000000000000</td>\n",
              "      <td>jenazah pria bernama arju di polewali mandar t...</td>\n",
              "      <td>0</td>\n",
              "      <td>0</td>\n",
              "      <td>0</td>\n",
              "      <td>1</td>\n",
              "      <td>in</td>\n",
              "      <td>375995332</td>\n",
              "      <td>1729350000000000000</td>\n",
              "      <td>SeputariNews</td>\n",
              "      <td>https://twitter.com/SeputariNews/status/172934...</td>\n",
              "      <td>mendesak</td>\n",
              "    </tr>\n",
              "  </tbody>\n",
              "</table>\n",
              "</div>\n",
              "    <div class=\"colab-df-buttons\">\n",
              "\n",
              "  <div class=\"colab-df-container\">\n",
              "    <button class=\"colab-df-convert\" onclick=\"convertToInteractive('df-6390bc17-9bf0-45c7-931a-9d7d63e418d5')\"\n",
              "            title=\"Convert this dataframe to an interactive table.\"\n",
              "            style=\"display:none;\">\n",
              "\n",
              "  <svg xmlns=\"http://www.w3.org/2000/svg\" height=\"24px\" viewBox=\"0 -960 960 960\">\n",
              "    <path d=\"M120-120v-720h720v720H120Zm60-500h600v-160H180v160Zm220 220h160v-160H400v160Zm0 220h160v-160H400v160ZM180-400h160v-160H180v160Zm440 0h160v-160H620v160ZM180-180h160v-160H180v160Zm440 0h160v-160H620v160Z\"/>\n",
              "  </svg>\n",
              "    </button>\n",
              "\n",
              "  <style>\n",
              "    .colab-df-container {\n",
              "      display:flex;\n",
              "      gap: 12px;\n",
              "    }\n",
              "\n",
              "    .colab-df-convert {\n",
              "      background-color: #E8F0FE;\n",
              "      border: none;\n",
              "      border-radius: 50%;\n",
              "      cursor: pointer;\n",
              "      display: none;\n",
              "      fill: #1967D2;\n",
              "      height: 32px;\n",
              "      padding: 0 0 0 0;\n",
              "      width: 32px;\n",
              "    }\n",
              "\n",
              "    .colab-df-convert:hover {\n",
              "      background-color: #E2EBFA;\n",
              "      box-shadow: 0px 1px 2px rgba(60, 64, 67, 0.3), 0px 1px 3px 1px rgba(60, 64, 67, 0.15);\n",
              "      fill: #174EA6;\n",
              "    }\n",
              "\n",
              "    .colab-df-buttons div {\n",
              "      margin-bottom: 4px;\n",
              "    }\n",
              "\n",
              "    [theme=dark] .colab-df-convert {\n",
              "      background-color: #3B4455;\n",
              "      fill: #D2E3FC;\n",
              "    }\n",
              "\n",
              "    [theme=dark] .colab-df-convert:hover {\n",
              "      background-color: #434B5C;\n",
              "      box-shadow: 0px 1px 3px 1px rgba(0, 0, 0, 0.15);\n",
              "      filter: drop-shadow(0px 1px 2px rgba(0, 0, 0, 0.3));\n",
              "      fill: #FFFFFF;\n",
              "    }\n",
              "  </style>\n",
              "\n",
              "    <script>\n",
              "      const buttonEl =\n",
              "        document.querySelector('#df-6390bc17-9bf0-45c7-931a-9d7d63e418d5 button.colab-df-convert');\n",
              "      buttonEl.style.display =\n",
              "        google.colab.kernel.accessAllowed ? 'block' : 'none';\n",
              "\n",
              "      async function convertToInteractive(key) {\n",
              "        const element = document.querySelector('#df-6390bc17-9bf0-45c7-931a-9d7d63e418d5');\n",
              "        const dataTable =\n",
              "          await google.colab.kernel.invokeFunction('convertToInteractive',\n",
              "                                                    [key], {});\n",
              "        if (!dataTable) return;\n",
              "\n",
              "        const docLinkHtml = 'Like what you see? Visit the ' +\n",
              "          '<a target=\"_blank\" href=https://colab.research.google.com/notebooks/data_table.ipynb>data table notebook</a>'\n",
              "          + ' to learn more about interactive tables.';\n",
              "        element.innerHTML = '';\n",
              "        dataTable['output_type'] = 'display_data';\n",
              "        await google.colab.output.renderOutput(dataTable, element);\n",
              "        const docLink = document.createElement('div');\n",
              "        docLink.innerHTML = docLinkHtml;\n",
              "        element.appendChild(docLink);\n",
              "      }\n",
              "    </script>\n",
              "  </div>\n",
              "\n",
              "\n",
              "<div id=\"df-66867d23-3d5b-498a-ae88-3b596ce5adf9\">\n",
              "  <button class=\"colab-df-quickchart\" onclick=\"quickchart('df-66867d23-3d5b-498a-ae88-3b596ce5adf9')\"\n",
              "            title=\"Suggest charts\"\n",
              "            style=\"display:none;\">\n",
              "\n",
              "<svg xmlns=\"http://www.w3.org/2000/svg\" height=\"24px\"viewBox=\"0 0 24 24\"\n",
              "     width=\"24px\">\n",
              "    <g>\n",
              "        <path d=\"M19 3H5c-1.1 0-2 .9-2 2v14c0 1.1.9 2 2 2h14c1.1 0 2-.9 2-2V5c0-1.1-.9-2-2-2zM9 17H7v-7h2v7zm4 0h-2V7h2v10zm4 0h-2v-4h2v4z\"/>\n",
              "    </g>\n",
              "</svg>\n",
              "  </button>\n",
              "\n",
              "<style>\n",
              "  .colab-df-quickchart {\n",
              "      --bg-color: #E8F0FE;\n",
              "      --fill-color: #1967D2;\n",
              "      --hover-bg-color: #E2EBFA;\n",
              "      --hover-fill-color: #174EA6;\n",
              "      --disabled-fill-color: #AAA;\n",
              "      --disabled-bg-color: #DDD;\n",
              "  }\n",
              "\n",
              "  [theme=dark] .colab-df-quickchart {\n",
              "      --bg-color: #3B4455;\n",
              "      --fill-color: #D2E3FC;\n",
              "      --hover-bg-color: #434B5C;\n",
              "      --hover-fill-color: #FFFFFF;\n",
              "      --disabled-bg-color: #3B4455;\n",
              "      --disabled-fill-color: #666;\n",
              "  }\n",
              "\n",
              "  .colab-df-quickchart {\n",
              "    background-color: var(--bg-color);\n",
              "    border: none;\n",
              "    border-radius: 50%;\n",
              "    cursor: pointer;\n",
              "    display: none;\n",
              "    fill: var(--fill-color);\n",
              "    height: 32px;\n",
              "    padding: 0;\n",
              "    width: 32px;\n",
              "  }\n",
              "\n",
              "  .colab-df-quickchart:hover {\n",
              "    background-color: var(--hover-bg-color);\n",
              "    box-shadow: 0 1px 2px rgba(60, 64, 67, 0.3), 0 1px 3px 1px rgba(60, 64, 67, 0.15);\n",
              "    fill: var(--button-hover-fill-color);\n",
              "  }\n",
              "\n",
              "  .colab-df-quickchart-complete:disabled,\n",
              "  .colab-df-quickchart-complete:disabled:hover {\n",
              "    background-color: var(--disabled-bg-color);\n",
              "    fill: var(--disabled-fill-color);\n",
              "    box-shadow: none;\n",
              "  }\n",
              "\n",
              "  .colab-df-spinner {\n",
              "    border: 2px solid var(--fill-color);\n",
              "    border-color: transparent;\n",
              "    border-bottom-color: var(--fill-color);\n",
              "    animation:\n",
              "      spin 1s steps(1) infinite;\n",
              "  }\n",
              "\n",
              "  @keyframes spin {\n",
              "    0% {\n",
              "      border-color: transparent;\n",
              "      border-bottom-color: var(--fill-color);\n",
              "      border-left-color: var(--fill-color);\n",
              "    }\n",
              "    20% {\n",
              "      border-color: transparent;\n",
              "      border-left-color: var(--fill-color);\n",
              "      border-top-color: var(--fill-color);\n",
              "    }\n",
              "    30% {\n",
              "      border-color: transparent;\n",
              "      border-left-color: var(--fill-color);\n",
              "      border-top-color: var(--fill-color);\n",
              "      border-right-color: var(--fill-color);\n",
              "    }\n",
              "    40% {\n",
              "      border-color: transparent;\n",
              "      border-right-color: var(--fill-color);\n",
              "      border-top-color: var(--fill-color);\n",
              "    }\n",
              "    60% {\n",
              "      border-color: transparent;\n",
              "      border-right-color: var(--fill-color);\n",
              "    }\n",
              "    80% {\n",
              "      border-color: transparent;\n",
              "      border-right-color: var(--fill-color);\n",
              "      border-bottom-color: var(--fill-color);\n",
              "    }\n",
              "    90% {\n",
              "      border-color: transparent;\n",
              "      border-bottom-color: var(--fill-color);\n",
              "    }\n",
              "  }\n",
              "</style>\n",
              "\n",
              "  <script>\n",
              "    async function quickchart(key) {\n",
              "      const quickchartButtonEl =\n",
              "        document.querySelector('#' + key + ' button');\n",
              "      quickchartButtonEl.disabled = true;  // To prevent multiple clicks.\n",
              "      quickchartButtonEl.classList.add('colab-df-spinner');\n",
              "      try {\n",
              "        const charts = await google.colab.kernel.invokeFunction(\n",
              "            'suggestCharts', [key], {});\n",
              "      } catch (error) {\n",
              "        console.error('Error during call to suggestCharts:', error);\n",
              "      }\n",
              "      quickchartButtonEl.classList.remove('colab-df-spinner');\n",
              "      quickchartButtonEl.classList.add('colab-df-quickchart-complete');\n",
              "    }\n",
              "    (() => {\n",
              "      let quickchartButtonEl =\n",
              "        document.querySelector('#df-66867d23-3d5b-498a-ae88-3b596ce5adf9 button');\n",
              "      quickchartButtonEl.style.display =\n",
              "        google.colab.kernel.accessAllowed ? 'block' : 'none';\n",
              "    })();\n",
              "  </script>\n",
              "</div>\n",
              "    </div>\n",
              "  </div>\n"
            ]
          },
          "metadata": {},
          "execution_count": 28
        }
      ],
      "source": [
        "dataset_label = pd.read_excel('/content/data_twitter_labeled.xls')\n",
        "dataset_label.head()"
      ]
    },
    {
      "cell_type": "markdown",
      "metadata": {
        "id": "PzatJIE5tHyr"
      },
      "source": [
        "# **SPLIT DATASET (80:20)**"
      ]
    },
    {
      "cell_type": "code",
      "execution_count": null,
      "metadata": {
        "id": "C8PT4f_pslag"
      },
      "outputs": [],
      "source": [
        "# Membuat DataFrame dari data sentimen\n",
        "dataset_label = pd.DataFrame(dataset_label)"
      ]
    },
    {
      "cell_type": "code",
      "execution_count": null,
      "metadata": {
        "id": "IT_YksrGs6tz"
      },
      "outputs": [],
      "source": [
        "X = dataset_label['full_text'].tolist()\n",
        "y = dataset_label['label']\n",
        "X_train, X_test, y_train, y_test = train_test_split(X, y, test_size=0.2, random_state=42)"
      ]
    },
    {
      "cell_type": "code",
      "execution_count": null,
      "metadata": {
        "colab": {
          "base_uri": "https://localhost:8080/"
        },
        "id": "0t0E0h9UtGwR",
        "outputId": "d83ab0ca-8a12-4b56-e117-a5af9d65c751"
      },
      "outputs": [
        {
          "output_type": "stream",
          "name": "stdout",
          "text": [
            "Jumlah data latih: 4415\n",
            "Jumlah data uji: 1104\n"
          ]
        }
      ],
      "source": [
        "# Jumlah data latih\n",
        "num_train = len(X_train)\n",
        "print(\"Jumlah data latih:\", num_train)\n",
        "\n",
        "# Jumlah data uji\n",
        "num_test = len(X_test)\n",
        "print(\"Jumlah data uji:\", num_test)"
      ]
    },
    {
      "cell_type": "code",
      "execution_count": null,
      "metadata": {
        "id": "RWxkFtdRupDL"
      },
      "outputs": [],
      "source": [
        "dataset = dataset_label.dropna(subset=['full_text'])\n",
        "\n",
        "# Extract the 'text' column as a list again\n",
        "X_train = dataset['full_text'].tolist()\n",
        "\n",
        "# Define n-gram range\n",
        "ngram_range = (1, 2)\n",
        "\n",
        "# Initialize CountVectorizer\n",
        "vectorizer = CountVectorizer(ngram_range=ngram_range)\n",
        "\n",
        "# Fit and transform the data\n",
        "X_train_counts = vectorizer.fit_transform(X_train)"
      ]
    },
    {
      "cell_type": "code",
      "execution_count": null,
      "metadata": {
        "colab": {
          "base_uri": "https://localhost:8080/"
        },
        "id": "5oCpMPV9vVV8",
        "outputId": "b9a61010-97fd-42be-ab10-81d89bd4c7cd"
      },
      "outputs": [
        {
          "output_type": "stream",
          "name": "stdout",
          "text": [
            "      __  __ xl  ___  ___ habis  ____  _____  ______  _________  _a  aa  ...  \\\n",
            "0      0      0    0          0     0      0       0          0   0   0  ...   \n",
            "1      0      0    0          0     0      0       0          0   0   0  ...   \n",
            "2      0      0    0          0     0      0       0          0   0   0  ...   \n",
            "3      0      0    0          0     0      0       0          0   0   0  ...   \n",
            "4      0      0    0          0     0      0       0          0   0   0  ...   \n",
            "...   ..    ...  ...        ...   ...    ...     ...        ...  ..  ..  ...   \n",
            "5513   0      0    0          0     0      0       0          0   0   0  ...   \n",
            "5514   0      0    0          0     0      0       0          0   0   0  ...   \n",
            "5515   0      0    0          0     0      0       0          0   0   0  ...   \n",
            "5516   0      0    0          0     0      0       0          0   0   0  ...   \n",
            "5517   0      0    0          0     0      0       0          0   0   0  ...   \n",
            "\n",
            "      ðÿƒ im  ðÿƒ sinyalnya  ðÿƒðÿââïðÿƒðÿââï  ðÿƒðÿƒ  ðÿƒðÿƒ fakk  \\\n",
            "0          0              0                 0       0            0   \n",
            "1          0              0                 0       0            0   \n",
            "2          0              0                 0       0            0   \n",
            "3          0              0                 0       0            0   \n",
            "4          0              0                 0       0            0   \n",
            "...      ...            ...               ...     ...          ...   \n",
            "5513       0              0                 0       0            0   \n",
            "5514       0              0                 0       0            0   \n",
            "5515       0              0                 0       0            0   \n",
            "5516       0              0                 0       0            0   \n",
            "5517       0              0                 0       0            0   \n",
            "\n",
            "      ðÿƒðÿƒ problematika  ðÿƒðÿƒðÿƒ  ðÿˆðÿˆ  ðÿˆðÿˆ trim  ðÿˆðÿˆðÿˆ  \n",
            "0                       0          0       0            0          0  \n",
            "1                       0          0       0            0          0  \n",
            "2                       0          0       0            0          0  \n",
            "3                       0          0       0            0          0  \n",
            "4                       0          0       0            0          0  \n",
            "...                   ...        ...     ...          ...        ...  \n",
            "5513                    0          0       0            0          0  \n",
            "5514                    0          0       0            0          0  \n",
            "5515                    0          0       0            0          0  \n",
            "5516                    0          0       0            0          0  \n",
            "5517                    0          0       0            0          0  \n",
            "\n",
            "[5518 rows x 72572 columns]\n"
          ]
        }
      ],
      "source": [
        "df_counts = pd.DataFrame(X_train_counts.toarray(), columns=vectorizer.get_feature_names_out())\n",
        "print(df_counts)"
      ]
    },
    {
      "cell_type": "markdown",
      "metadata": {
        "id": "2Jkblo5hvHeB"
      },
      "source": [
        "# **BM25**"
      ]
    },
    {
      "cell_type": "code",
      "execution_count": null,
      "metadata": {
        "id": "72ANyH_tvExY"
      },
      "outputs": [],
      "source": [
        "# Membangun BM25 Vectorizer\n",
        "bm25 = BM25Okapi(X_train)\n",
        "\n",
        "# Mengubah data pelatihan menjadi vektor BM25\n",
        "X_train_bm25 = [bm25.get_scores(doc) for doc in X_train]\n",
        "\n",
        "# Mengubah data uji menjadi vektor BM25\n",
        "X_test_bm25 = [bm25.get_scores(doc) for doc in X_test]\n",
        "\n",
        "# Menggabungkan X_train_bm25 dan X_test_bm25\n",
        "X_train_bm25_combined = np.vstack(X_train_bm25)\n",
        "X_test_bm25_combined = np.vstack(X_test_bm25)\n"
      ]
    },
    {
      "cell_type": "markdown",
      "metadata": {
        "id": "HO57Owsv2Iag"
      },
      "source": [
        "# **WORD EMBEDDING**"
      ]
    },
    {
      "cell_type": "code",
      "source": [
        "from gensim.models import Word2Vec\n",
        "from sklearn.ensemble import RandomForestClassifier\n",
        "from sklearn.linear_model import LogisticRegression\n",
        "from sklearn.metrics import accuracy_score\n",
        "from sklearn.tree import DecisionTreeClassifier\n",
        "from sklearn.ensemble import RandomForestClassifier\n",
        "from sklearn.ensemble import VotingClassifier\n",
        "from sklearn.svm import SVC\n",
        "from sklearn.model_selection import train_test_split\n",
        "from nltk.tokenize import word_tokenize"
      ],
      "metadata": {
        "id": "39BQ75kQhfe2"
      },
      "execution_count": null,
      "outputs": []
    },
    {
      "cell_type": "code",
      "source": [
        "# Melatih model Word2Vec\n",
        "tokenized_text = dataset['full_text'].apply(lambda x: word_tokenize(x.lower()))\n",
        "word2vec_model = Word2Vec(sentences=tokenized_text, vector_size=100, window=5, min_count=1, sg=0)"
      ],
      "metadata": {
        "id": "I2WeEfPaj890"
      },
      "execution_count": null,
      "outputs": []
    },
    {
      "cell_type": "code",
      "source": [
        "# Membuat fungsi untuk mengonversi teks menjadi representasi vektor Word2Vec\n",
        "def text_to_vector(text, model):\n",
        "    words = word_tokenize(text.lower())\n",
        "    word_vectors = [model.wv[word] for word in words if word in model.wv]\n",
        "    if word_vectors:\n",
        "        text_vector = sum(word_vectors) / len(word_vectors)\n",
        "    else:\n",
        "        text_vector = [0] * model.vector_size\n",
        "    return text_vector"
      ],
      "metadata": {
        "id": "UqVtEIiwlOkJ"
      },
      "execution_count": null,
      "outputs": []
    },
    {
      "cell_type": "code",
      "source": [
        "# Mengonversi teks menjadi representasi vektor Word2Vec\n",
        "dataset['text_vectors'] = dataset['full_text'].apply(lambda x: text_to_vector(x, word2vec_model))\n"
      ],
      "metadata": {
        "id": "5PD9sGmvkBmV"
      },
      "execution_count": null,
      "outputs": []
    },
    {
      "cell_type": "markdown",
      "source": [
        "# **MODELLING**"
      ],
      "metadata": {
        "id": "eRzRz7hhmKt2"
      }
    },
    {
      "cell_type": "code",
      "source": [
        "# Memisahkan dataset menjadi data latih dan data uji\n",
        "X = dataset['text_vectors'].tolist()  # Features\n",
        "y = dataset['label']  # Labels\n",
        "X_train, X_test, y_train, y_test = train_test_split(X, y, test_size=0.2, random_state=42)"
      ],
      "metadata": {
        "id": "gkjsNNvvlYHU"
      },
      "execution_count": null,
      "outputs": []
    },
    {
      "cell_type": "code",
      "source": [
        "model1 = LogisticRegression()\n",
        "model2 = DecisionTreeClassifier()\n",
        "model3 = RandomForestClassifier()\n",
        "model4 = SVC(probability=True)\n",
        "\n",
        "ensemble_model = VotingClassifier(estimators=[('lr', model1), ('dt', model2), ('rf', model3), ('svm', model4)], voting='soft')\n",
        "\n",
        "ensemble_model.fit(X_train, y_train)"
      ],
      "metadata": {
        "colab": {
          "base_uri": "https://localhost:8080/",
          "height": 110
        },
        "id": "KqngP6b4lcj_",
        "outputId": "6c4300b9-fe7a-4d8c-c0bd-5160770d51ac"
      },
      "execution_count": null,
      "outputs": [
        {
          "output_type": "execute_result",
          "data": {
            "text/plain": [
              "VotingClassifier(estimators=[('lr', LogisticRegression()),\n",
              "                             ('dt', DecisionTreeClassifier()),\n",
              "                             ('rf', RandomForestClassifier()),\n",
              "                             ('svm', SVC(probability=True))],\n",
              "                 voting='soft')"
            ],
            "text/html": [
              "<style>#sk-container-id-2 {color: black;background-color: white;}#sk-container-id-2 pre{padding: 0;}#sk-container-id-2 div.sk-toggleable {background-color: white;}#sk-container-id-2 label.sk-toggleable__label {cursor: pointer;display: block;width: 100%;margin-bottom: 0;padding: 0.3em;box-sizing: border-box;text-align: center;}#sk-container-id-2 label.sk-toggleable__label-arrow:before {content: \"▸\";float: left;margin-right: 0.25em;color: #696969;}#sk-container-id-2 label.sk-toggleable__label-arrow:hover:before {color: black;}#sk-container-id-2 div.sk-estimator:hover label.sk-toggleable__label-arrow:before {color: black;}#sk-container-id-2 div.sk-toggleable__content {max-height: 0;max-width: 0;overflow: hidden;text-align: left;background-color: #f0f8ff;}#sk-container-id-2 div.sk-toggleable__content pre {margin: 0.2em;color: black;border-radius: 0.25em;background-color: #f0f8ff;}#sk-container-id-2 input.sk-toggleable__control:checked~div.sk-toggleable__content {max-height: 200px;max-width: 100%;overflow: auto;}#sk-container-id-2 input.sk-toggleable__control:checked~label.sk-toggleable__label-arrow:before {content: \"▾\";}#sk-container-id-2 div.sk-estimator input.sk-toggleable__control:checked~label.sk-toggleable__label {background-color: #d4ebff;}#sk-container-id-2 div.sk-label input.sk-toggleable__control:checked~label.sk-toggleable__label {background-color: #d4ebff;}#sk-container-id-2 input.sk-hidden--visually {border: 0;clip: rect(1px 1px 1px 1px);clip: rect(1px, 1px, 1px, 1px);height: 1px;margin: -1px;overflow: hidden;padding: 0;position: absolute;width: 1px;}#sk-container-id-2 div.sk-estimator {font-family: monospace;background-color: #f0f8ff;border: 1px dotted black;border-radius: 0.25em;box-sizing: border-box;margin-bottom: 0.5em;}#sk-container-id-2 div.sk-estimator:hover {background-color: #d4ebff;}#sk-container-id-2 div.sk-parallel-item::after {content: \"\";width: 100%;border-bottom: 1px solid gray;flex-grow: 1;}#sk-container-id-2 div.sk-label:hover label.sk-toggleable__label {background-color: #d4ebff;}#sk-container-id-2 div.sk-serial::before {content: \"\";position: absolute;border-left: 1px solid gray;box-sizing: border-box;top: 0;bottom: 0;left: 50%;z-index: 0;}#sk-container-id-2 div.sk-serial {display: flex;flex-direction: column;align-items: center;background-color: white;padding-right: 0.2em;padding-left: 0.2em;position: relative;}#sk-container-id-2 div.sk-item {position: relative;z-index: 1;}#sk-container-id-2 div.sk-parallel {display: flex;align-items: stretch;justify-content: center;background-color: white;position: relative;}#sk-container-id-2 div.sk-item::before, #sk-container-id-2 div.sk-parallel-item::before {content: \"\";position: absolute;border-left: 1px solid gray;box-sizing: border-box;top: 0;bottom: 0;left: 50%;z-index: -1;}#sk-container-id-2 div.sk-parallel-item {display: flex;flex-direction: column;z-index: 1;position: relative;background-color: white;}#sk-container-id-2 div.sk-parallel-item:first-child::after {align-self: flex-end;width: 50%;}#sk-container-id-2 div.sk-parallel-item:last-child::after {align-self: flex-start;width: 50%;}#sk-container-id-2 div.sk-parallel-item:only-child::after {width: 0;}#sk-container-id-2 div.sk-dashed-wrapped {border: 1px dashed gray;margin: 0 0.4em 0.5em 0.4em;box-sizing: border-box;padding-bottom: 0.4em;background-color: white;}#sk-container-id-2 div.sk-label label {font-family: monospace;font-weight: bold;display: inline-block;line-height: 1.2em;}#sk-container-id-2 div.sk-label-container {text-align: center;}#sk-container-id-2 div.sk-container {/* jupyter's `normalize.less` sets `[hidden] { display: none; }` but bootstrap.min.css set `[hidden] { display: none !important; }` so we also need the `!important` here to be able to override the default hidden behavior on the sphinx rendered scikit-learn.org. See: https://github.com/scikit-learn/scikit-learn/issues/21755 */display: inline-block !important;position: relative;}#sk-container-id-2 div.sk-text-repr-fallback {display: none;}</style><div id=\"sk-container-id-2\" class=\"sk-top-container\"><div class=\"sk-text-repr-fallback\"><pre>VotingClassifier(estimators=[(&#x27;lr&#x27;, LogisticRegression()),\n",
              "                             (&#x27;dt&#x27;, DecisionTreeClassifier()),\n",
              "                             (&#x27;rf&#x27;, RandomForestClassifier()),\n",
              "                             (&#x27;svm&#x27;, SVC(probability=True))],\n",
              "                 voting=&#x27;soft&#x27;)</pre><b>In a Jupyter environment, please rerun this cell to show the HTML representation or trust the notebook. <br />On GitHub, the HTML representation is unable to render, please try loading this page with nbviewer.org.</b></div><div class=\"sk-container\" hidden><div class=\"sk-item sk-dashed-wrapped\"><div class=\"sk-label-container\"><div class=\"sk-label sk-toggleable\"><input class=\"sk-toggleable__control sk-hidden--visually\" id=\"sk-estimator-id-2\" type=\"checkbox\" ><label for=\"sk-estimator-id-2\" class=\"sk-toggleable__label sk-toggleable__label-arrow\">VotingClassifier</label><div class=\"sk-toggleable__content\"><pre>VotingClassifier(estimators=[(&#x27;lr&#x27;, LogisticRegression()),\n",
              "                             (&#x27;dt&#x27;, DecisionTreeClassifier()),\n",
              "                             (&#x27;rf&#x27;, RandomForestClassifier()),\n",
              "                             (&#x27;svm&#x27;, SVC(probability=True))],\n",
              "                 voting=&#x27;soft&#x27;)</pre></div></div></div><div class=\"sk-parallel\"><div class=\"sk-parallel-item\"><div class=\"sk-item\"><div class=\"sk-label-container\"><div class=\"sk-label sk-toggleable\"><label>lr</label></div></div><div class=\"sk-serial\"><div class=\"sk-item\"><div class=\"sk-estimator sk-toggleable\"><input class=\"sk-toggleable__control sk-hidden--visually\" id=\"sk-estimator-id-3\" type=\"checkbox\" ><label for=\"sk-estimator-id-3\" class=\"sk-toggleable__label sk-toggleable__label-arrow\">LogisticRegression</label><div class=\"sk-toggleable__content\"><pre>LogisticRegression()</pre></div></div></div></div></div></div><div class=\"sk-parallel-item\"><div class=\"sk-item\"><div class=\"sk-label-container\"><div class=\"sk-label sk-toggleable\"><label>dt</label></div></div><div class=\"sk-serial\"><div class=\"sk-item\"><div class=\"sk-estimator sk-toggleable\"><input class=\"sk-toggleable__control sk-hidden--visually\" id=\"sk-estimator-id-4\" type=\"checkbox\" ><label for=\"sk-estimator-id-4\" class=\"sk-toggleable__label sk-toggleable__label-arrow\">DecisionTreeClassifier</label><div class=\"sk-toggleable__content\"><pre>DecisionTreeClassifier()</pre></div></div></div></div></div></div><div class=\"sk-parallel-item\"><div class=\"sk-item\"><div class=\"sk-label-container\"><div class=\"sk-label sk-toggleable\"><label>rf</label></div></div><div class=\"sk-serial\"><div class=\"sk-item\"><div class=\"sk-estimator sk-toggleable\"><input class=\"sk-toggleable__control sk-hidden--visually\" id=\"sk-estimator-id-5\" type=\"checkbox\" ><label for=\"sk-estimator-id-5\" class=\"sk-toggleable__label sk-toggleable__label-arrow\">RandomForestClassifier</label><div class=\"sk-toggleable__content\"><pre>RandomForestClassifier()</pre></div></div></div></div></div></div><div class=\"sk-parallel-item\"><div class=\"sk-item\"><div class=\"sk-label-container\"><div class=\"sk-label sk-toggleable\"><label>svm</label></div></div><div class=\"sk-serial\"><div class=\"sk-item\"><div class=\"sk-estimator sk-toggleable\"><input class=\"sk-toggleable__control sk-hidden--visually\" id=\"sk-estimator-id-6\" type=\"checkbox\" ><label for=\"sk-estimator-id-6\" class=\"sk-toggleable__label sk-toggleable__label-arrow\">SVC</label><div class=\"sk-toggleable__content\"><pre>SVC(probability=True)</pre></div></div></div></div></div></div></div></div></div></div>"
            ]
          },
          "metadata": {},
          "execution_count": 54
        }
      ]
    },
    {
      "cell_type": "code",
      "source": [
        "# Membuat prediksi dengan model ensemble pada data uji\n",
        "y_pred_ensemble = ensemble_model.predict(X_test)\n",
        "y_pred_proba_ensemble = ensemble_model.predict_proba(X_test)"
      ],
      "metadata": {
        "id": "MCDDz1yClhSP"
      },
      "execution_count": null,
      "outputs": []
    },
    {
      "cell_type": "code",
      "source": [
        "import numpy as np\n",
        "from sklearn.metrics import confusion_matrix\n",
        "import seaborn as sns\n",
        "\n",
        "\n",
        "\n",
        "\n",
        "\n",
        "# Create confusion matrix\n",
        "cm = confusion_matrix(y_test, y_pred_ensemble)\n",
        "\n",
        "\n",
        "# Membuat heatmap dari confusion matrix\n",
        "plt.figure(figsize=(8, 6))\n",
        "sns.heatmap(cm, annot=True, fmt=\"d\", cmap=\"Blues\", cbar=False)\n",
        "plt.title(\"Confusion Matrix - Model Ensemble\")\n",
        "plt.xlabel(\"Predicted Labels\")\n",
        "plt.ylabel(\"True Labels\")\n",
        "plt.show()"
      ],
      "metadata": {
        "colab": {
          "base_uri": "https://localhost:8080/",
          "height": 564
        },
        "id": "qNh9gdJ-rO--",
        "outputId": "b3294be5-5870-4538-bf5e-4fe6c9486562"
      },
      "execution_count": null,
      "outputs": [
        {
          "output_type": "display_data",
          "data": {
            "text/plain": [
              "<Figure size 800x600 with 1 Axes>"
            ],
            "image/png": "[encoded data removed]"
          },
          "metadata": {}
        }
      ]
    },
    {
      "cell_type": "code",
      "source": [
        "from sklearn.metrics import accuracy_score, precision_score, recall_score, f1_score\n",
        "\n",
        "# Mengubah y_pred_ensemble menjadi array numpy\n",
        "y_pred_ensemble = np.array(y_pred_ensemble)\n",
        "\n",
        "# Memastikan jumlah sampel yang konsisten\n",
        "min_len = min(len(y_test), len(y_pred_ensemble))\n",
        "y_test = y_test[:min_len]\n",
        "y_pred_ensemble = y_pred_ensemble[:min_len]\n",
        "\n",
        "# Menampilkan metrik evaluasi\n",
        "accuracy = accuracy_score(y_test, y_pred_ensemble)\n",
        "precision = precision_score(y_test, y_pred_ensemble, average='weighted')\n",
        "recall = recall_score(y_test, y_pred_ensemble, average='weighted')\n",
        "f1 = f1_score(y_test, y_pred_ensemble, average='weighted')\n",
        "\n",
        "print(\"Accuracy:\", accuracy)\n",
        "print(\"Precision:\", precision)\n",
        "print(\"Recall:\", recall)\n",
        "print(\"F1-score:\", f1)"
      ],
      "metadata": {
        "colab": {
          "base_uri": "https://localhost:8080/"
        },
        "id": "wfkOCS6erjp0",
        "outputId": "b3348c5d-5f8a-40ee-b521-a9ff40adc526"
      },
      "execution_count": null,
      "outputs": [
        {
          "output_type": "stream",
          "name": "stdout",
          "text": [
            "Accuracy: 0.9302536231884058\n",
            "Precision: 0.9298656170907366\n",
            "Recall: 0.9302536231884058\n",
            "F1-score: 0.9196754171808393\n"
          ]
        }
      ]
    }
  ],
  "metadata": {
    "colab": {
      "provenance": [],
      "collapsed_sections": [
        "enMBgPJL3YKk",
        "6O0qO4oK3PyT",
        "AZSHga9LC7dj",
        "2Jkblo5hvHeB",
        "HO57Owsv2Iag",
        "eRzRz7hhmKt2"
      ]
    },
    "kernelspec": {
      "display_name": "Python 3",
      "name": "python3"
    },
    "language_info": {
      "name": "python"
    }
  },
  "nbformat": 4,
  "nbformat_minor": 0
}